{
 "cells": [
  {
   "cell_type": "code",
   "execution_count": null,
   "id": "f72a922f",
   "metadata": {},
   "outputs": [],
   "source": [
    "def factorial(n):\n",
    "    if n == 0:\n",
    "        return 1\n",
    "    else:\n",
    "        return n * factorial(n-1)"
   ]
  },
  {
   "cell_type": "markdown",
   "id": "dc45b4c7",
   "metadata": {},
   "source": [
    "definimos la funcion donde plantamos dos posibles casos, el primero es donde el usuario digita el numero 0 al cual el codigo le retornara el numero 1 y el esgundo caso es donde el usuario digita un numero operable donde n se multiplicara por si mismo pero menos 1 opteniendo asi el factorial  "
   ]
  },
  {
   "cell_type": "code",
   "execution_count": null,
   "id": "908223e5",
   "metadata": {},
   "outputs": [],
   "source": [
    "n = int(input(\"Ingrese el número del cual desea saber el factorial: \"))\n",
    "print(\"Resultado:\", factorial(n))"
   ]
  },
  {
   "cell_type": "markdown",
   "id": "e27c8550",
   "metadata": {},
   "source": [
    "- defenimos n como entero y llamamos un input para que el usuario pueda digitar el numero del cual quira saber el factorial \n",
    "- llamamos un print para que nos pueda mostrar el resultado  de la funcion factorial que creamos\n"
   ]
  }
 ],
 "metadata": {
  "jupytext": {
   "cell_metadata_filter": "-all",
   "main_language": "python",
   "notebook_metadata_filter": "-all"
  },
  "language_info": {
   "name": "python"
  }
 },
 "nbformat": 4,
 "nbformat_minor": 5
}
